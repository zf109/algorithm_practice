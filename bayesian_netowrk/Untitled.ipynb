{
 "cells": [
  {
   "cell_type": "markdown",
   "metadata": {},
   "source": [
    "# Bayes Classifiers and Naive Bayes family"
   ]
  },
  {
   "cell_type": "code",
   "execution_count": 1,
   "metadata": {},
   "outputs": [],
   "source": [
    "from pomegranate import *\n",
    "d1 = IndependentComponentsDistribution([NormalDistribution(5, 2), NormalDistribution(6, 1), NormalDistribution(9, 1)])\n",
    "d2 = IndependentComponentsDistribution([NormalDistribution(2, 1), NormalDistribution(8, 1), NormalDistribution(5, 1)])\n",
    "d3 = IndependentComponentsDistribution([NormalDistribution(3, 1), NormalDistribution(5, 3), NormalDistribution(4, 1)])\n",
    "model = NaiveBayes([d1, d2, d3])"
   ]
  },
  {
   "cell_type": "code",
   "execution_count": 3,
   "metadata": {},
   "outputs": [],
   "source": [
    "from pomegranate import *\n",
    "\n",
    "guest = DiscreteDistribution({'A': 1./3, 'B': 1./3, 'C': 1./3})\n",
    "prize = DiscreteDistribution({'A': 1./3, 'B': 1./3, 'C': 1./3})\n",
    "monty = ConditionalProbabilityTable(\n",
    "        [['A', 'A', 'A', 0.0],\n",
    "         ['A', 'A', 'B', 0.5],\n",
    "         ['A', 'A', 'C', 0.5],\n",
    "         ['A', 'B', 'A', 0.0],\n",
    "         ['A', 'B', 'B', 0.0],\n",
    "         ['A', 'B', 'C', 1.0],\n",
    "         ['A', 'C', 'A', 0.0],\n",
    "         ['A', 'C', 'B', 1.0],\n",
    "         ['A', 'C', 'C', 0.0],\n",
    "         ['B', 'A', 'A', 0.0],\n",
    "         ['B', 'A', 'B', 0.0],\n",
    "         ['B', 'A', 'C', 1.0],\n",
    "         ['B', 'B', 'A', 0.5],\n",
    "         ['B', 'B', 'B', 0.0],\n",
    "         ['B', 'B', 'C', 0.5],\n",
    "         ['B', 'C', 'A', 1.0],\n",
    "         ['B', 'C', 'B', 0.0],\n",
    "         ['B', 'C', 'C', 0.0],\n",
    "         ['C', 'A', 'A', 0.0],\n",
    "         ['C', 'A', 'B', 1.0],\n",
    "         ['C', 'A', 'C', 0.0],\n",
    "         ['C', 'B', 'A', 1.0],\n",
    "         ['C', 'B', 'B', 0.0],\n",
    "         ['C', 'B', 'C', 0.0],\n",
    "         ['C', 'C', 'A', 0.5],\n",
    "         ['C', 'C', 'B', 0.5],\n",
    "         ['C', 'C', 'C', 0.0]], [guest, prize])\n",
    "\n",
    "s1 = Node(guest, name=\"guest\")\n",
    "s2 = Node(prize, name=\"prize\")\n",
    "s3 = Node(monty, name=\"monty\")\n",
    "\n",
    "model = BayesianNetwork(\"Monty Hall Problem\")\n",
    "model.add_states(s1, s2, s3)\n",
    "model.add_edge(s1, s3)\n",
    "model.add_edge(s2, s3)\n",
    "model.bake()"
   ]
  },
  {
   "cell_type": "code",
   "execution_count": 23,
   "metadata": {},
   "outputs": [],
   "source": [
    "# monty"
   ]
  },
  {
   "cell_type": "code",
   "execution_count": 24,
   "metadata": {},
   "outputs": [
    {
     "data": {
      "text/plain": [
       "0.0"
      ]
     },
     "execution_count": 24,
     "metadata": {},
     "output_type": "execute_result"
    }
   ],
   "source": [
    "# check probability of particular state\n",
    "model.probability(['B','C','B'])\n"
   ]
  },
  {
   "cell_type": "code",
   "execution_count": 26,
   "metadata": {},
   "outputs": [
    {
     "data": {
      "text/plain": [
       "[array(['A', 'B', 'C'], dtype=object),\n",
       " array(['A', 'B', 'C'], dtype=object),\n",
       " array(['C', 'B', 'A'], dtype=object)]"
      ]
     },
     "execution_count": 26,
     "metadata": {},
     "output_type": "execute_result"
    }
   ],
   "source": [
    "# imputing missing data points\n",
    "model.predict([['A', 'B', None],\n",
    "                 ['A', None, 'C'],\n",
    "                 [None, 'B', 'A']])\n"
   ]
  },
  {
   "cell_type": "code",
   "execution_count": 57,
   "metadata": {},
   "outputs": [
    {
     "data": {
      "text/plain": [
       "[array(['A',\n",
       "        {\n",
       "     \"class\" :\"Distribution\",\n",
       "     \"name\" :\"DiscreteDistribution\",\n",
       "     \"parameters\" :[\n",
       "         {\n",
       "             \"A\" :0.3333333333333334,\n",
       "             \"B\" :0.6666666666666664,\n",
       "             \"C\" :0.0\n",
       "         }\n",
       "     ],\n",
       "     \"frozen\" :false\n",
       " },\n",
       "        'C'], dtype=object)]"
      ]
     },
     "execution_count": 57,
     "metadata": {},
     "output_type": "execute_result"
    }
   ],
   "source": [
    "model.predict_proba([[\"A\", None, \"C\"]])"
   ]
  },
  {
   "cell_type": "code",
   "execution_count": 56,
   "metadata": {},
   "outputs": [
    {
     "data": {
      "text/plain": [
       "{'class': 'BayesianNetwork',\n",
       " 'name': 'Monty Hall Problem',\n",
       " 'states': [{'class': 'State',\n",
       "   'distribution': {'class': 'Distribution',\n",
       "    'frozen': False,\n",
       "    'name': 'DiscreteDistribution',\n",
       "    'parameters': [{'A': 0.3333333333333333,\n",
       "      'B': 0.3333333333333333,\n",
       "      'C': 0.3333333333333333}]},\n",
       "   'name': 'guest',\n",
       "   'weight': 1.0},\n",
       "  {'class': 'State',\n",
       "   'distribution': {'class': 'Distribution',\n",
       "    'frozen': False,\n",
       "    'name': 'DiscreteDistribution',\n",
       "    'parameters': [{'A': 0.3333333333333333,\n",
       "      'B': 0.3333333333333333,\n",
       "      'C': 0.3333333333333333}]},\n",
       "   'name': 'prize',\n",
       "   'weight': 1.0},\n",
       "  {'class': 'State',\n",
       "   'distribution': {'class': 'Distribution',\n",
       "    'name': 'ConditionalProbabilityTable',\n",
       "    'parents': [{'class': 'Distribution',\n",
       "      'frozen': False,\n",
       "      'name': 'DiscreteDistribution',\n",
       "      'parameters': [{'A': 0.3333333333333333,\n",
       "        'B': 0.3333333333333333,\n",
       "        'C': 0.3333333333333333}]},\n",
       "     {'class': 'Distribution',\n",
       "      'frozen': False,\n",
       "      'name': 'DiscreteDistribution',\n",
       "      'parameters': [{'A': 0.3333333333333333,\n",
       "        'B': 0.3333333333333333,\n",
       "        'C': 0.3333333333333333}]}],\n",
       "    'table': [['A', 'A', 'A', '0.0'],\n",
       "     ['A', 'A', 'B', '0.5'],\n",
       "     ['A', 'A', 'C', '0.5'],\n",
       "     ['A', 'B', 'A', '0.0'],\n",
       "     ['A', 'B', 'B', '0.0'],\n",
       "     ['A', 'B', 'C', '1.0'],\n",
       "     ['A', 'C', 'A', '0.0'],\n",
       "     ['A', 'C', 'B', '1.0'],\n",
       "     ['A', 'C', 'C', '0.0'],\n",
       "     ['B', 'A', 'A', '0.0'],\n",
       "     ['B', 'A', 'B', '0.0'],\n",
       "     ['B', 'A', 'C', '1.0'],\n",
       "     ['B', 'B', 'A', '0.5'],\n",
       "     ['B', 'B', 'B', '0.0'],\n",
       "     ['B', 'B', 'C', '0.5'],\n",
       "     ['B', 'C', 'A', '1.0'],\n",
       "     ['B', 'C', 'B', '0.0'],\n",
       "     ['B', 'C', 'C', '0.0'],\n",
       "     ['C', 'A', 'A', '0.0'],\n",
       "     ['C', 'A', 'B', '1.0'],\n",
       "     ['C', 'A', 'C', '0.0'],\n",
       "     ['C', 'B', 'A', '1.0'],\n",
       "     ['C', 'B', 'B', '0.0'],\n",
       "     ['C', 'B', 'C', '0.0'],\n",
       "     ['C', 'C', 'A', '0.5'],\n",
       "     ['C', 'C', 'B', '0.5'],\n",
       "     ['C', 'C', 'C', '0.0']]},\n",
       "   'name': 'monty',\n",
       "   'weight': 1.0}],\n",
       " 'structure': [[], [], [0, 1]]}"
      ]
     },
     "execution_count": 56,
     "metadata": {},
     "output_type": "execute_result"
    }
   ],
   "source": [
    "import json\n",
    "\n",
    "json.loads(model.to_json())"
   ]
  },
  {
   "cell_type": "code",
   "execution_count": 58,
   "metadata": {},
   "outputs": [
    {
     "data": {
      "text/plain": [
       "3"
      ]
     },
     "execution_count": 58,
     "metadata": {},
     "output_type": "execute_result"
    }
   ],
   "source": [
    "model.state_count()"
   ]
  },
  {
   "cell_type": "code",
   "execution_count": null,
   "metadata": {},
   "outputs": [],
   "source": []
  }
 ],
 "metadata": {
  "kernelspec": {
   "display_name": "Python 3",
   "language": "python",
   "name": "python3"
  },
  "language_info": {
   "codemirror_mode": {
    "name": "ipython",
    "version": 3
   },
   "file_extension": ".py",
   "mimetype": "text/x-python",
   "name": "python",
   "nbconvert_exporter": "python",
   "pygments_lexer": "ipython3",
   "version": "3.6.1"
  }
 },
 "nbformat": 4,
 "nbformat_minor": 2
}
