{
 "cells": [
  {
   "cell_type": "markdown",
   "metadata": {},
   "source": [
    "# Probability for sampling $K$ out of $n$ total population and find no positive\n",
    "\n",
    "The general setup of this problem can be described as following:\n",
    "\n",
    "- We have $n$ total data points ($n$ is large), and then we need to sample $k$ from these points for expensive observation (e.g. manual inspection).\n",
    "- There are $x$ data points, within $n$ total population we have, are positive (i.e. having the property that we have).\n",
    "- Within $k$ samples, we observe $\\hat{x}$ positive data points.\n",
    "- Given observation we have $\\hat{x} \\in \\{0, 1, \\cdots, k\\}$ (note we included 0 to indicate thre can be no such property), what is the probability distribution of $x$?\n",
    "\n",
    "\n"
   ]
  },
  {
   "cell_type": "markdown",
   "metadata": {},
   "source": [
    "As I am very Bayesian person, so I decided to approach this problem in a Bayesian way, the above question to me is equivalent to solve the following:\n",
    "\\begin{align}\n",
    "\t\\mathbb{P}(X_n=x|\\hat{X}_k=\\hat{x}) = \\frac{\\mathbb{P}(\\hat{X}_k=\\hat{x}|X_n=x)\\mathbb{P}(X_n=x)}{\\mathbb{P}(\\hat{X}_k=\\hat{x})}\n",
    "\\end{align}\n",
    "where\n",
    "- $X_n$ is the random variable where given $n$ total population, you observed $X$ positives.\n",
    "- $\\hat{X}_k$ is the random variable where given $k$ sample, you observed $\\hat{X}$ positives.\n",
    "- $\\mathbb{P}(X_n=x|\\hat{X}_k=\\hat{x})$ is the probability distribution of observing $X$ number of positives within total $n$ population, given we have observed $\\hat{x}$ within our sample.\n",
    "\n",
    "Naturally, we start with uninformative prior $\\mathbb{P}(X_n)= \\frac{1}{n+1}$ (notice the $n+1$ here is to include the possibility of zero positives), the normalising constant is\n",
    "\\begin{align}\n",
    "\t\\mathbb{P}(\\hat{X}_k=\\hat{x}) = \\sum_{i=0}^n \\mathbb{P}(\\hat{X}_k=\\hat{x}|X_n=i)\n",
    "\\end{align}\n",
    "\n",
    "The interesting bit lies in the calculation of the posterior distribution. Consider an instance here:\n",
    "\\begin{align}\n",
    "\\mathbb{P}(\\hat{X}_2=0|X_3=2)\n",
    "\\end{align}\n",
    "with a total population $n=3$, and we have 1 positive, what is the probability of seeing 0 positive from a random sample of 2?\n",
    "\n",
    "Let's go back to basics, assume each datapoint is $A$, $B$ and $C$, and when sample 2, we have a combination of $AB$, $AC$, $BC$, and without loss of generality, assume that one postive data point is $C$. Then it means we have 1/3 of chance to observe 0 positive if we sample 2.\n",
    "\n",
    "What about 4? We have $AB$, $AC$, $AD$, $BC$, $BD$, $CD$, we have 1/2. Now we generalise this into a formula:\n",
    "\\begin{align}\n",
    "\\mathbb{P}(\\hat{X}_k=0|X_n=x)& = \\frac{C_k^{n-x}}{C_k^{n}}  \\\\\n",
    "\t\t\t\t\t\t& = \\frac{(n-x)!}{k!(n-x-k)!}  \\frac{k!(n-k)!}{n!} \\\\\n",
    "\t\t\t\t\t\t& = \\frac{\\Pi_{i=0}^{x-1}(n-k-i)}{\\Pi_{i=0}^{x-1}(n-i)}\n",
    "\\end{align}\n"
   ]
  },
  {
   "cell_type": "markdown",
   "metadata": {},
   "source": [
    "# Quick implementation\n",
    "Implementing it in python is easy. *However*, there's a trap: the formula $\\frac{\\Pi_{i=0}^{x-1}(n-k-i)}{\\Pi_{i=0}^{x-1}(n-i)}$ is actually very subtle and subject to overflow. The following is a good example:"
   ]
  },
  {
   "cell_type": "code",
   "execution_count": 47,
   "metadata": {},
   "outputs": [
    {
     "data": {
      "text/plain": [
       "-0.31230157279729737"
      ]
     },
     "execution_count": 47,
     "metadata": {},
     "output_type": "execute_result"
    }
   ],
   "source": [
    "\n",
    "n = 200\n",
    "x = 10\n",
    "k = 10\n",
    "num = [n-k-i for i in range(x)]\n",
    "denom = [n-i for i in range(x)]\n",
    "np.prod(num)/np.prod(denom)"
   ]
  },
  {
   "cell_type": "markdown",
   "metadata": {},
   "source": [
    "In the above one, we have total population of 200, and there are 10 positives, and we sampled 10 from it, the probability of seeing 0 positive in the sample, interestingly from the calculation, is *negative*.\n",
    "\n",
    "This is because the denominator gets too large, it becomes a negative number:\n",
    "```python\n",
    "denom\n",
    "[200, 199, 198, 197, 196, 195, 194, 193, 192, 191]\n",
    "np.prod(denom)\n",
    "-9064137027699023872\n",
    "```\n",
    "Of course an elegant way of solving this is to change the way $\\frac{\\Pi_{i=0}^{x-1}(n-k-i)}{\\Pi_{i=0}^{x-1}(n-i)}$ is calculated. Alternatively, a mentally lazy way of calculating it is to improve the precision of float to double by use `np.float64`.\n"
   ]
  },
  {
   "cell_type": "code",
   "execution_count": 57,
   "metadata": {},
   "outputs": [
    {
     "data": {
      "text/plain": [
       "0.5914521339185829"
      ]
     },
     "execution_count": 57,
     "metadata": {},
     "output_type": "execute_result"
    }
   ],
   "source": [
    "import numpy as np\n",
    "def prob_finding_zero(x, k, n):\n",
    "    num = np.array([n-k-i for i in range(x)], dtype=np.float64)\n",
    "    denom = np.array([n-i for i in range(x)],  dtype=np.float64)\n",
    "    return np.prod(num)/np.prod(denom)\n",
    "\n",
    "n = 200\n",
    "x = 10\n",
    "k = 10\n",
    "prob_finding_zero(x, k, n)\n"
   ]
  },
  {
   "cell_type": "markdown",
   "metadata": {},
   "source": [
    "Now this makes more sense...\n",
    "\n",
    "Now back to our problem, if we have $n=2000$ data, and we sample $k$ data points, what is the distribution?"
   ]
  },
  {
   "cell_type": "code",
   "execution_count": 87,
   "metadata": {},
   "outputs": [
    {
     "data": {
      "image/png": "[encoded data removed]",
      "text/plain": [
       "<Figure size 432x288 with 1 Axes>"
      ]
     },
     "metadata": {
      "needs_background": "light"
     },
     "output_type": "display_data"
    }
   ],
   "source": [
    "%matplotlib inline\n",
    "import matplotlib.pyplot as plt\n",
    "\n",
    "n = 300\n",
    "x_max = 100\n",
    "plt.plot([prob_finding_zero(x, k=10, n=n) for x in range(0,x_max)])\n",
    "plt.plot([prob_finding_zero(x, k=50, n=n) for x in range(0,x_max)])\n",
    "plt.plot([prob_finding_zero(x, k=100, n=n) for x in range(0,x_max)])\n",
    "plt.legend([\"k=10\", \"k=50\", \"k=100\"])\n",
    "plt.ylabel(\"probability\")\n",
    "plt.xlabel(f\"x positives within total population of {n}\")\n",
    "plt.show()"
   ]
  },
  {
   "cell_type": "markdown",
   "metadata": {},
   "source": [
    "we can see the probability of observing zero positives drops to zero as natural positive $x$ increases, and the larger the sample size $k$, the faster the drop is."
   ]
  },
  {
   "cell_type": "markdown",
   "metadata": {},
   "source": [
    "Now it is time to sum up and get our problem: given $n$ total population, and there are $x$ positives in it, what is the probability we find zero positive if we sample $k$ from $n$:\n",
    "\n",
    "\\begin{align}\n",
    "\t\\mathbb{P}(X_n=0|\\hat{X}_k=\\hat{x}) = \\frac{\\mathbb{P}(\\hat{X}_k=0|X_n=x)\\mathbb{P}(X_n=x)}{\\mathbb{P}(\\hat{X}_k=0)}\n",
    "\\end{align}\n",
    "We have already our prior, posterior, and for the normalising constant, we get\n",
    "\\begin{align}\n",
    "\t\\mathbb{P}(\\hat{X}_k=0) = \\sum_{i=0}^n \\mathbb{P}(\\hat{X}_k=0|X_n=i)\n",
    "\\end{align}\n",
    "\n",
    "The final result can be calculate by the following code:"
   ]
  },
  {
   "cell_type": "code",
   "execution_count": 124,
   "metadata": {},
   "outputs": [
    {
     "name": "stdout",
     "output_type": "stream",
     "text": [
      "check sum of distribution 1 0.9999999999999999\n",
      "check sum of distribution 2 1.0000000000000004\n",
      "check sum of distribution 3 0.9999999999999994\n"
     ]
    },
    {
     "data": {
      "image/png": "[encoded data removed]",
      "text/plain": [
       "<Figure size 432x288 with 1 Axes>"
      ]
     },
     "metadata": {
      "needs_background": "light"
     },
     "output_type": "display_data"
    }
   ],
   "source": [
    "get_normalising_constant = lambda k, n, x_max=n: sum([prob_finding_zero(x=x, k=k, n=n)*1/(n+1) for x in range(x_max+1)])\n",
    "\n",
    "n = 70\n",
    "x_max = n # if it gets too big, we will have numerical error\n",
    "k1 = int(.1*n)\n",
    "k2 = int(.3*n)\n",
    "k3 = int(.8*n)\n",
    "\n",
    "norm_const1 = get_normalising_constant(k1, n, x_max=x_max)\n",
    "dist1 = [prob_finding_zero(x, k=k1, n=n)*1/(n+1)/norm_const1 for x in range(0,x_max)]\n",
    "print(\"check sum of distribution 1\", sum(dist1))\n",
    "\n",
    "norm_const2 = get_normalising_constant(k2, n, x_max=x_max)\n",
    "dist2 = [prob_finding_zero(x, k=k2, n=n)*1/(n+1)/norm_const2 for x in range(0,x_max)]\n",
    "print(\"check sum of distribution 2\", sum(dist2))\n",
    "\n",
    "norm_const3 = get_normalising_constant(k3, n, x_max=x_max)\n",
    "dist3 = [prob_finding_zero(x, k=k3, n=n)*1/(n+1)/norm_const3 for x in range(0,x_max)]\n",
    "print(\"check sum of distribution 3\", sum(dist3))\n",
    "\n",
    "\n",
    "\n",
    "plt.plot(dist1)\n",
    "plt.plot(dist2)\n",
    "plt.plot(dist3)\n",
    "plt.legend([f\"k={k1}\", f\"k={k2}\", f\"k={k3}\"])\n",
    "plt.ylabel(\"probability density\")\n",
    "plt.xlabel(f\"x positives within total population of {n}\")\n",
    "plt.show()\n"
   ]
  },
  {
   "cell_type": "markdown",
   "metadata": {},
   "source": [
    "Now, what conclusion we can draw from the above graph?\n",
    "\n",
    "- For starters, if we want to be sure that "
   ]
  },
  {
   "cell_type": "code",
   "execution_count": null,
   "metadata": {},
   "outputs": [],
   "source": []
  }
 ],
 "metadata": {
  "kernelspec": {
   "display_name": "Python 3",
   "language": "python",
   "name": "python3"
  },
  "language_info": {
   "codemirror_mode": {
    "name": "ipython",
    "version": 3
   },
   "file_extension": ".py",
   "mimetype": "text/x-python",
   "name": "python",
   "nbconvert_exporter": "python",
   "pygments_lexer": "ipython3",
   "version": "3.6.8"
  }
 },
 "nbformat": 4,
 "nbformat_minor": 2
}
